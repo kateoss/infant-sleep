{
 "cells": [
  {
   "cell_type": "code",
   "execution_count": 1,
   "id": "cedfe479",
   "metadata": {},
   "outputs": [],
   "source": [
    "import pandas as pd\n",
    "import numpy as np"
   ]
  },
  {
   "cell_type": "code",
   "execution_count": 2,
   "id": "1e810dd2",
   "metadata": {},
   "outputs": [
    {
     "data": {
      "text/html": [
       "<div>\n",
       "<style scoped>\n",
       "    .dataframe tbody tr th:only-of-type {\n",
       "        vertical-align: middle;\n",
       "    }\n",
       "\n",
       "    .dataframe tbody tr th {\n",
       "        vertical-align: top;\n",
       "    }\n",
       "\n",
       "    .dataframe thead th {\n",
       "        text-align: right;\n",
       "    }\n",
       "</style>\n",
       "<table border=\"1\" class=\"dataframe\">\n",
       "  <thead>\n",
       "    <tr style=\"text-align: right;\">\n",
       "      <th></th>\n",
       "      <th>Participant_number</th>\n",
       "      <th>Type_parents</th>\n",
       "      <th>Birth_1mth_M_inclusion</th>\n",
       "      <th>Birth_12mth_M_inclusion</th>\n",
       "      <th>Age</th>\n",
       "      <th>Marital_status</th>\n",
       "      <th>Marital_status_Autre</th>\n",
       "      <th>Marital_status_edit</th>\n",
       "      <th>Education</th>\n",
       "      <th>Gestationnal_age</th>\n",
       "      <th>...</th>\n",
       "      <th>IBQ_R_VSF_10_bb1</th>\n",
       "      <th>IBQ_R_VSF_16_bb1</th>\n",
       "      <th>IBQ_R_VSF_17_bb1</th>\n",
       "      <th>IBQ_R_VSF_28_bb1</th>\n",
       "      <th>IBQ_R_VSF_29_bb1</th>\n",
       "      <th>IBQ_R_VSF_32_bb1</th>\n",
       "      <th>IBQ_R_VSF_33_bb1</th>\n",
       "      <th>Sleep_night_duration_bb1</th>\n",
       "      <th>night_awakening_number_bb1</th>\n",
       "      <th>how_falling_asleep_bb1</th>\n",
       "    </tr>\n",
       "  </thead>\n",
       "  <tbody>\n",
       "    <tr>\n",
       "      <th>0</th>\n",
       "      <td>1</td>\n",
       "      <td>1</td>\n",
       "      <td>1</td>\n",
       "      <td>1</td>\n",
       "      <td>34</td>\n",
       "      <td>2</td>\n",
       "      <td>NaN</td>\n",
       "      <td>2</td>\n",
       "      <td>5</td>\n",
       "      <td>37.0</td>\n",
       "      <td>...</td>\n",
       "      <td>NaN</td>\n",
       "      <td>7.0</td>\n",
       "      <td>NaN</td>\n",
       "      <td>NaN</td>\n",
       "      <td>7.0</td>\n",
       "      <td>6.0</td>\n",
       "      <td>NaN</td>\n",
       "      <td>10:00</td>\n",
       "      <td>3</td>\n",
       "      <td>2</td>\n",
       "    </tr>\n",
       "    <tr>\n",
       "      <th>1</th>\n",
       "      <td>2</td>\n",
       "      <td>1</td>\n",
       "      <td>1</td>\n",
       "      <td>1</td>\n",
       "      <td>33</td>\n",
       "      <td>2</td>\n",
       "      <td>NaN</td>\n",
       "      <td>2</td>\n",
       "      <td>5</td>\n",
       "      <td>42.0</td>\n",
       "      <td>...</td>\n",
       "      <td>2.0</td>\n",
       "      <td>3.0</td>\n",
       "      <td>2.0</td>\n",
       "      <td>2.0</td>\n",
       "      <td>2.0</td>\n",
       "      <td>3.0</td>\n",
       "      <td>4.0</td>\n",
       "      <td>11:00</td>\n",
       "      <td>0</td>\n",
       "      <td>4</td>\n",
       "    </tr>\n",
       "    <tr>\n",
       "      <th>2</th>\n",
       "      <td>3</td>\n",
       "      <td>1</td>\n",
       "      <td>1</td>\n",
       "      <td>1</td>\n",
       "      <td>37</td>\n",
       "      <td>2</td>\n",
       "      <td>NaN</td>\n",
       "      <td>2</td>\n",
       "      <td>5</td>\n",
       "      <td>41.0</td>\n",
       "      <td>...</td>\n",
       "      <td>4.0</td>\n",
       "      <td>4.0</td>\n",
       "      <td>3.0</td>\n",
       "      <td>1.0</td>\n",
       "      <td>4.0</td>\n",
       "      <td>NaN</td>\n",
       "      <td>NaN</td>\n",
       "      <td>12:00</td>\n",
       "      <td>1</td>\n",
       "      <td>2</td>\n",
       "    </tr>\n",
       "    <tr>\n",
       "      <th>3</th>\n",
       "      <td>4</td>\n",
       "      <td>1</td>\n",
       "      <td>1</td>\n",
       "      <td>1</td>\n",
       "      <td>31</td>\n",
       "      <td>2</td>\n",
       "      <td>NaN</td>\n",
       "      <td>2</td>\n",
       "      <td>5</td>\n",
       "      <td>37.5</td>\n",
       "      <td>...</td>\n",
       "      <td>1.0</td>\n",
       "      <td>3.0</td>\n",
       "      <td>NaN</td>\n",
       "      <td>NaN</td>\n",
       "      <td>NaN</td>\n",
       "      <td>5.0</td>\n",
       "      <td>NaN</td>\n",
       "      <td>11:00</td>\n",
       "      <td>2</td>\n",
       "      <td>1</td>\n",
       "    </tr>\n",
       "    <tr>\n",
       "      <th>4</th>\n",
       "      <td>5</td>\n",
       "      <td>1</td>\n",
       "      <td>1</td>\n",
       "      <td>1</td>\n",
       "      <td>36</td>\n",
       "      <td>1</td>\n",
       "      <td>NaN</td>\n",
       "      <td>1</td>\n",
       "      <td>5</td>\n",
       "      <td>40.0</td>\n",
       "      <td>...</td>\n",
       "      <td>4.0</td>\n",
       "      <td>2.0</td>\n",
       "      <td>2.0</td>\n",
       "      <td>4.0</td>\n",
       "      <td>5.0</td>\n",
       "      <td>6.0</td>\n",
       "      <td>6.0</td>\n",
       "      <td>10:30</td>\n",
       "      <td>1</td>\n",
       "      <td>4</td>\n",
       "    </tr>\n",
       "  </tbody>\n",
       "</table>\n",
       "<p>5 rows × 64 columns</p>\n",
       "</div>"
      ],
      "text/plain": [
       "   Participant_number  Type_parents  Birth_1mth_M_inclusion   \n",
       "0                   1             1                       1  \\\n",
       "1                   2             1                       1   \n",
       "2                   3             1                       1   \n",
       "3                   4             1                       1   \n",
       "4                   5             1                       1   \n",
       "\n",
       "   Birth_12mth_M_inclusion  Age  Marital_status Marital_status_Autre   \n",
       "0                        1   34               2                  NaN  \\\n",
       "1                        1   33               2                  NaN   \n",
       "2                        1   37               2                  NaN   \n",
       "3                        1   31               2                  NaN   \n",
       "4                        1   36               1                  NaN   \n",
       "\n",
       "   Marital_status_edit  Education  Gestationnal_age  ...  IBQ_R_VSF_10_bb1   \n",
       "0                    2          5              37.0  ...               NaN  \\\n",
       "1                    2          5              42.0  ...               2.0   \n",
       "2                    2          5              41.0  ...               4.0   \n",
       "3                    2          5              37.5  ...               1.0   \n",
       "4                    1          5              40.0  ...               4.0   \n",
       "\n",
       "   IBQ_R_VSF_16_bb1  IBQ_R_VSF_17_bb1  IBQ_R_VSF_28_bb1  IBQ_R_VSF_29_bb1   \n",
       "0               7.0               NaN               NaN               7.0  \\\n",
       "1               3.0               2.0               2.0               2.0   \n",
       "2               4.0               3.0               1.0               4.0   \n",
       "3               3.0               NaN               NaN               NaN   \n",
       "4               2.0               2.0               4.0               5.0   \n",
       "\n",
       "   IBQ_R_VSF_32_bb1  IBQ_R_VSF_33_bb1  Sleep_night_duration_bb1   \n",
       "0               6.0               NaN                     10:00  \\\n",
       "1               3.0               4.0                     11:00   \n",
       "2               NaN               NaN                     12:00   \n",
       "3               5.0               NaN                     11:00   \n",
       "4               6.0               6.0                     10:30   \n",
       "\n",
       "   night_awakening_number_bb1  how_falling_asleep_bb1  \n",
       "0                           3                       2  \n",
       "1                           0                       4  \n",
       "2                           1                       2  \n",
       "3                           2                       1  \n",
       "4                           1                       4  \n",
       "\n",
       "[5 rows x 64 columns]"
      ]
     },
     "execution_count": 2,
     "metadata": {},
     "output_type": "execute_result"
    }
   ],
   "source": [
    "#importing the dataset\n",
    "data = pd.read_csv(\"../data/Dataset_maternal_mental_health_infant_sleep.csv\", sep=',', encoding='latin-1')\n",
    "data.head()"
   ]
  },
  {
   "cell_type": "code",
   "execution_count": 3,
   "id": "d66ea50d",
   "metadata": {},
   "outputs": [
    {
     "data": {
      "text/plain": [
       "(410, 64)"
      ]
     },
     "execution_count": 3,
     "metadata": {},
     "output_type": "execute_result"
    }
   ],
   "source": [
    "data.shape"
   ]
  },
  {
   "cell_type": "code",
   "execution_count": 4,
   "id": "60c0b13b",
   "metadata": {},
   "outputs": [
    {
     "data": {
      "text/plain": [
       "Participant_number             0.00\n",
       "Type_parents                   0.00\n",
       "Birth_1mth_M_inclusion         0.00\n",
       "Birth_12mth_M_inclusion        0.00\n",
       "Age                            0.00\n",
       "Marital_status                 0.00\n",
       "Marital_status_Autre          99.51\n",
       "Marital_status_edit            0.00\n",
       "Education                      0.00\n",
       "Gestationnal_age               0.00\n",
       "Type_pregnancy                 0.00\n",
       "sex_baby1                      0.00\n",
       "CBTS_M_3                       0.00\n",
       "CBTS_M_4                       0.00\n",
       "CBTS_M_5                       0.00\n",
       "CBTS_M_6                       0.00\n",
       "CBTS_M_7                       0.00\n",
       "CBTS_M_8                       0.00\n",
       "CBTS_M_9                       0.00\n",
       "CBTS_M_10                      0.00\n",
       "CBTS_M_11                      0.00\n",
       "CBTS_M_12                      0.00\n",
       "CBTS_13                        0.00\n",
       "CBTS_14                        0.00\n",
       "CBTS_15                        0.00\n",
       "CBTS_16                        0.00\n",
       "CBTS_17                        0.00\n",
       "CBTS_18                        0.00\n",
       "CBTS_19                        0.00\n",
       "CBTS_20                        0.00\n",
       "CBTS_21                        0.00\n",
       "CBTS_22                        0.00\n",
       "EPDS_1                         0.00\n",
       "EPDS_2                         0.00\n",
       "EPDS_3                         0.00\n",
       "EPDS_4                         0.00\n",
       "EPDS_5                         0.00\n",
       "EPDS_6                         0.00\n",
       "EPDS_7                         0.00\n",
       "EPDS_8                         0.00\n",
       "EPDS_9                         0.00\n",
       "EPDS_10                        0.00\n",
       "HADS_1                         0.00\n",
       "HADS_3                         0.00\n",
       "HADS_5                         0.00\n",
       "HADS_7                         0.00\n",
       "HADS_9                         0.00\n",
       "HADS_11                        0.00\n",
       "HADS_13                        0.00\n",
       "Child_survey_participation     0.00\n",
       "Age_bb                         0.00\n",
       "IBQ_R_VSF_3_bb1                1.22\n",
       "IBQ_R_VSF_4_bb1                8.05\n",
       "IBQ_R_VSF_9_bb1                8.29\n",
       "IBQ_R_VSF_10_bb1               8.54\n",
       "IBQ_R_VSF_16_bb1               3.90\n",
       "IBQ_R_VSF_17_bb1              19.76\n",
       "IBQ_R_VSF_28_bb1              15.37\n",
       "IBQ_R_VSF_29_bb1               3.66\n",
       "IBQ_R_VSF_32_bb1               7.80\n",
       "IBQ_R_VSF_33_bb1              20.49\n",
       "Sleep_night_duration_bb1       0.00\n",
       "night_awakening_number_bb1     0.00\n",
       "how_falling_asleep_bb1         0.00\n",
       "dtype: float64"
      ]
     },
     "execution_count": 4,
     "metadata": {},
     "output_type": "execute_result"
    }
   ],
   "source": [
    "# checking names the missing values for all the columns\n",
    "pd.set_option('display.max_columns', None)\n",
    "pd.set_option('display.max_rows', None)\n",
    "pd.set_option('display.width', None)\n",
    "round(data.isna().sum()/len(data),4)*100"
   ]
  },
  {
   "cell_type": "code",
   "execution_count": 5,
   "id": "9a818993",
   "metadata": {},
   "outputs": [
    {
     "data": {
      "text/html": [
       "<div>\n",
       "<style scoped>\n",
       "    .dataframe tbody tr th:only-of-type {\n",
       "        vertical-align: middle;\n",
       "    }\n",
       "\n",
       "    .dataframe tbody tr th {\n",
       "        vertical-align: top;\n",
       "    }\n",
       "\n",
       "    .dataframe thead th {\n",
       "        text-align: right;\n",
       "    }\n",
       "</style>\n",
       "<table border=\"1\" class=\"dataframe\">\n",
       "  <thead>\n",
       "    <tr style=\"text-align: right;\">\n",
       "      <th></th>\n",
       "      <th>participant_number</th>\n",
       "      <th>type_parents</th>\n",
       "      <th>birth_1mth_m_inclusion</th>\n",
       "      <th>birth_12mth_m_inclusion</th>\n",
       "      <th>age</th>\n",
       "      <th>marital_status</th>\n",
       "      <th>marital_status_autre</th>\n",
       "      <th>marital_status_edit</th>\n",
       "      <th>education</th>\n",
       "      <th>gestationnal_age</th>\n",
       "      <th>type_pregnancy</th>\n",
       "      <th>sex_baby1</th>\n",
       "      <th>cbts_m_3</th>\n",
       "      <th>cbts_m_4</th>\n",
       "      <th>cbts_m_5</th>\n",
       "      <th>cbts_m_6</th>\n",
       "      <th>cbts_m_7</th>\n",
       "      <th>cbts_m_8</th>\n",
       "      <th>cbts_m_9</th>\n",
       "      <th>cbts_m_10</th>\n",
       "      <th>cbts_m_11</th>\n",
       "      <th>cbts_m_12</th>\n",
       "      <th>cbts_13</th>\n",
       "      <th>cbts_14</th>\n",
       "      <th>cbts_15</th>\n",
       "      <th>cbts_16</th>\n",
       "      <th>cbts_17</th>\n",
       "      <th>cbts_18</th>\n",
       "      <th>cbts_19</th>\n",
       "      <th>cbts_20</th>\n",
       "      <th>cbts_21</th>\n",
       "      <th>cbts_22</th>\n",
       "      <th>epds_1</th>\n",
       "      <th>epds_2</th>\n",
       "      <th>epds_3</th>\n",
       "      <th>epds_4</th>\n",
       "      <th>epds_5</th>\n",
       "      <th>epds_6</th>\n",
       "      <th>epds_7</th>\n",
       "      <th>epds_8</th>\n",
       "      <th>epds_9</th>\n",
       "      <th>epds_10</th>\n",
       "      <th>hads_1</th>\n",
       "      <th>hads_3</th>\n",
       "      <th>hads_5</th>\n",
       "      <th>hads_7</th>\n",
       "      <th>hads_9</th>\n",
       "      <th>hads_11</th>\n",
       "      <th>hads_13</th>\n",
       "      <th>child_survey_participation</th>\n",
       "      <th>age_bb</th>\n",
       "      <th>ibq_r_vsf_3_bb1</th>\n",
       "      <th>ibq_r_vsf_4_bb1</th>\n",
       "      <th>ibq_r_vsf_9_bb1</th>\n",
       "      <th>ibq_r_vsf_10_bb1</th>\n",
       "      <th>ibq_r_vsf_16_bb1</th>\n",
       "      <th>ibq_r_vsf_17_bb1</th>\n",
       "      <th>ibq_r_vsf_28_bb1</th>\n",
       "      <th>ibq_r_vsf_29_bb1</th>\n",
       "      <th>ibq_r_vsf_32_bb1</th>\n",
       "      <th>ibq_r_vsf_33_bb1</th>\n",
       "      <th>sleep_night_duration_bb1</th>\n",
       "      <th>night_awakening_number_bb1</th>\n",
       "      <th>how_falling_asleep_bb1</th>\n",
       "    </tr>\n",
       "  </thead>\n",
       "  <tbody>\n",
       "    <tr>\n",
       "      <th>0</th>\n",
       "      <td>1</td>\n",
       "      <td>1</td>\n",
       "      <td>1</td>\n",
       "      <td>1</td>\n",
       "      <td>34</td>\n",
       "      <td>2</td>\n",
       "      <td>NaN</td>\n",
       "      <td>2</td>\n",
       "      <td>5</td>\n",
       "      <td>37.0</td>\n",
       "      <td>1</td>\n",
       "      <td>1</td>\n",
       "      <td>0</td>\n",
       "      <td>0</td>\n",
       "      <td>0</td>\n",
       "      <td>0</td>\n",
       "      <td>0</td>\n",
       "      <td>0</td>\n",
       "      <td>0</td>\n",
       "      <td>1</td>\n",
       "      <td>0</td>\n",
       "      <td>0</td>\n",
       "      <td>0</td>\n",
       "      <td>0</td>\n",
       "      <td>0</td>\n",
       "      <td>0</td>\n",
       "      <td>2</td>\n",
       "      <td>0</td>\n",
       "      <td>2</td>\n",
       "      <td>0</td>\n",
       "      <td>0</td>\n",
       "      <td>1</td>\n",
       "      <td>1</td>\n",
       "      <td>2</td>\n",
       "      <td>2</td>\n",
       "      <td>1</td>\n",
       "      <td>1</td>\n",
       "      <td>2</td>\n",
       "      <td>0</td>\n",
       "      <td>2</td>\n",
       "      <td>2</td>\n",
       "      <td>0</td>\n",
       "      <td>2</td>\n",
       "      <td>1</td>\n",
       "      <td>2</td>\n",
       "      <td>2</td>\n",
       "      <td>0</td>\n",
       "      <td>1</td>\n",
       "      <td>1</td>\n",
       "      <td>1</td>\n",
       "      <td>1</td>\n",
       "      <td>6.0</td>\n",
       "      <td>NaN</td>\n",
       "      <td>7.0</td>\n",
       "      <td>NaN</td>\n",
       "      <td>7.0</td>\n",
       "      <td>NaN</td>\n",
       "      <td>NaN</td>\n",
       "      <td>7.0</td>\n",
       "      <td>6.0</td>\n",
       "      <td>NaN</td>\n",
       "      <td>10:00</td>\n",
       "      <td>3</td>\n",
       "      <td>2</td>\n",
       "    </tr>\n",
       "    <tr>\n",
       "      <th>1</th>\n",
       "      <td>2</td>\n",
       "      <td>1</td>\n",
       "      <td>1</td>\n",
       "      <td>1</td>\n",
       "      <td>33</td>\n",
       "      <td>2</td>\n",
       "      <td>NaN</td>\n",
       "      <td>2</td>\n",
       "      <td>5</td>\n",
       "      <td>42.0</td>\n",
       "      <td>1</td>\n",
       "      <td>2</td>\n",
       "      <td>0</td>\n",
       "      <td>0</td>\n",
       "      <td>0</td>\n",
       "      <td>0</td>\n",
       "      <td>0</td>\n",
       "      <td>0</td>\n",
       "      <td>0</td>\n",
       "      <td>0</td>\n",
       "      <td>0</td>\n",
       "      <td>0</td>\n",
       "      <td>0</td>\n",
       "      <td>0</td>\n",
       "      <td>0</td>\n",
       "      <td>0</td>\n",
       "      <td>0</td>\n",
       "      <td>0</td>\n",
       "      <td>0</td>\n",
       "      <td>0</td>\n",
       "      <td>0</td>\n",
       "      <td>0</td>\n",
       "      <td>0</td>\n",
       "      <td>0</td>\n",
       "      <td>0</td>\n",
       "      <td>0</td>\n",
       "      <td>0</td>\n",
       "      <td>0</td>\n",
       "      <td>0</td>\n",
       "      <td>0</td>\n",
       "      <td>0</td>\n",
       "      <td>0</td>\n",
       "      <td>1</td>\n",
       "      <td>0</td>\n",
       "      <td>1</td>\n",
       "      <td>0</td>\n",
       "      <td>0</td>\n",
       "      <td>1</td>\n",
       "      <td>0</td>\n",
       "      <td>1</td>\n",
       "      <td>3</td>\n",
       "      <td>1.0</td>\n",
       "      <td>4.0</td>\n",
       "      <td>2.0</td>\n",
       "      <td>2.0</td>\n",
       "      <td>3.0</td>\n",
       "      <td>2.0</td>\n",
       "      <td>2.0</td>\n",
       "      <td>2.0</td>\n",
       "      <td>3.0</td>\n",
       "      <td>4.0</td>\n",
       "      <td>11:00</td>\n",
       "      <td>0</td>\n",
       "      <td>4</td>\n",
       "    </tr>\n",
       "    <tr>\n",
       "      <th>2</th>\n",
       "      <td>3</td>\n",
       "      <td>1</td>\n",
       "      <td>1</td>\n",
       "      <td>1</td>\n",
       "      <td>37</td>\n",
       "      <td>2</td>\n",
       "      <td>NaN</td>\n",
       "      <td>2</td>\n",
       "      <td>5</td>\n",
       "      <td>41.0</td>\n",
       "      <td>1</td>\n",
       "      <td>1</td>\n",
       "      <td>0</td>\n",
       "      <td>0</td>\n",
       "      <td>1</td>\n",
       "      <td>0</td>\n",
       "      <td>0</td>\n",
       "      <td>0</td>\n",
       "      <td>0</td>\n",
       "      <td>0</td>\n",
       "      <td>0</td>\n",
       "      <td>1</td>\n",
       "      <td>1</td>\n",
       "      <td>0</td>\n",
       "      <td>0</td>\n",
       "      <td>0</td>\n",
       "      <td>2</td>\n",
       "      <td>0</td>\n",
       "      <td>2</td>\n",
       "      <td>0</td>\n",
       "      <td>2</td>\n",
       "      <td>0</td>\n",
       "      <td>1</td>\n",
       "      <td>0</td>\n",
       "      <td>2</td>\n",
       "      <td>1</td>\n",
       "      <td>0</td>\n",
       "      <td>2</td>\n",
       "      <td>0</td>\n",
       "      <td>1</td>\n",
       "      <td>1</td>\n",
       "      <td>0</td>\n",
       "      <td>2</td>\n",
       "      <td>1</td>\n",
       "      <td>1</td>\n",
       "      <td>2</td>\n",
       "      <td>0</td>\n",
       "      <td>3</td>\n",
       "      <td>0</td>\n",
       "      <td>1</td>\n",
       "      <td>1</td>\n",
       "      <td>1.0</td>\n",
       "      <td>NaN</td>\n",
       "      <td>NaN</td>\n",
       "      <td>4.0</td>\n",
       "      <td>4.0</td>\n",
       "      <td>3.0</td>\n",
       "      <td>1.0</td>\n",
       "      <td>4.0</td>\n",
       "      <td>NaN</td>\n",
       "      <td>NaN</td>\n",
       "      <td>12:00</td>\n",
       "      <td>1</td>\n",
       "      <td>2</td>\n",
       "    </tr>\n",
       "    <tr>\n",
       "      <th>3</th>\n",
       "      <td>4</td>\n",
       "      <td>1</td>\n",
       "      <td>1</td>\n",
       "      <td>1</td>\n",
       "      <td>31</td>\n",
       "      <td>2</td>\n",
       "      <td>NaN</td>\n",
       "      <td>2</td>\n",
       "      <td>5</td>\n",
       "      <td>37.5</td>\n",
       "      <td>1</td>\n",
       "      <td>2</td>\n",
       "      <td>0</td>\n",
       "      <td>0</td>\n",
       "      <td>1</td>\n",
       "      <td>1</td>\n",
       "      <td>1</td>\n",
       "      <td>0</td>\n",
       "      <td>0</td>\n",
       "      <td>1</td>\n",
       "      <td>1</td>\n",
       "      <td>1</td>\n",
       "      <td>2</td>\n",
       "      <td>0</td>\n",
       "      <td>1</td>\n",
       "      <td>0</td>\n",
       "      <td>1</td>\n",
       "      <td>0</td>\n",
       "      <td>2</td>\n",
       "      <td>0</td>\n",
       "      <td>2</td>\n",
       "      <td>0</td>\n",
       "      <td>1</td>\n",
       "      <td>1</td>\n",
       "      <td>2</td>\n",
       "      <td>2</td>\n",
       "      <td>2</td>\n",
       "      <td>2</td>\n",
       "      <td>2</td>\n",
       "      <td>2</td>\n",
       "      <td>1</td>\n",
       "      <td>1</td>\n",
       "      <td>1</td>\n",
       "      <td>3</td>\n",
       "      <td>3</td>\n",
       "      <td>1</td>\n",
       "      <td>2</td>\n",
       "      <td>2</td>\n",
       "      <td>1</td>\n",
       "      <td>1</td>\n",
       "      <td>3</td>\n",
       "      <td>2.0</td>\n",
       "      <td>5.0</td>\n",
       "      <td>2.0</td>\n",
       "      <td>1.0</td>\n",
       "      <td>3.0</td>\n",
       "      <td>NaN</td>\n",
       "      <td>NaN</td>\n",
       "      <td>NaN</td>\n",
       "      <td>5.0</td>\n",
       "      <td>NaN</td>\n",
       "      <td>11:00</td>\n",
       "      <td>2</td>\n",
       "      <td>1</td>\n",
       "    </tr>\n",
       "    <tr>\n",
       "      <th>4</th>\n",
       "      <td>5</td>\n",
       "      <td>1</td>\n",
       "      <td>1</td>\n",
       "      <td>1</td>\n",
       "      <td>36</td>\n",
       "      <td>1</td>\n",
       "      <td>NaN</td>\n",
       "      <td>1</td>\n",
       "      <td>5</td>\n",
       "      <td>40.0</td>\n",
       "      <td>1</td>\n",
       "      <td>2</td>\n",
       "      <td>0</td>\n",
       "      <td>0</td>\n",
       "      <td>0</td>\n",
       "      <td>0</td>\n",
       "      <td>0</td>\n",
       "      <td>0</td>\n",
       "      <td>0</td>\n",
       "      <td>0</td>\n",
       "      <td>0</td>\n",
       "      <td>0</td>\n",
       "      <td>0</td>\n",
       "      <td>0</td>\n",
       "      <td>0</td>\n",
       "      <td>0</td>\n",
       "      <td>1</td>\n",
       "      <td>0</td>\n",
       "      <td>1</td>\n",
       "      <td>0</td>\n",
       "      <td>0</td>\n",
       "      <td>1</td>\n",
       "      <td>0</td>\n",
       "      <td>0</td>\n",
       "      <td>1</td>\n",
       "      <td>0</td>\n",
       "      <td>0</td>\n",
       "      <td>2</td>\n",
       "      <td>0</td>\n",
       "      <td>0</td>\n",
       "      <td>0</td>\n",
       "      <td>0</td>\n",
       "      <td>1</td>\n",
       "      <td>0</td>\n",
       "      <td>0</td>\n",
       "      <td>1</td>\n",
       "      <td>0</td>\n",
       "      <td>1</td>\n",
       "      <td>0</td>\n",
       "      <td>1</td>\n",
       "      <td>3</td>\n",
       "      <td>2.0</td>\n",
       "      <td>6.0</td>\n",
       "      <td>2.0</td>\n",
       "      <td>4.0</td>\n",
       "      <td>2.0</td>\n",
       "      <td>2.0</td>\n",
       "      <td>4.0</td>\n",
       "      <td>5.0</td>\n",
       "      <td>6.0</td>\n",
       "      <td>6.0</td>\n",
       "      <td>10:30</td>\n",
       "      <td>1</td>\n",
       "      <td>4</td>\n",
       "    </tr>\n",
       "  </tbody>\n",
       "</table>\n",
       "</div>"
      ],
      "text/plain": [
       "   participant_number  type_parents  birth_1mth_m_inclusion   \n",
       "0                   1             1                       1  \\\n",
       "1                   2             1                       1   \n",
       "2                   3             1                       1   \n",
       "3                   4             1                       1   \n",
       "4                   5             1                       1   \n",
       "\n",
       "   birth_12mth_m_inclusion  age  marital_status marital_status_autre   \n",
       "0                        1   34               2                  NaN  \\\n",
       "1                        1   33               2                  NaN   \n",
       "2                        1   37               2                  NaN   \n",
       "3                        1   31               2                  NaN   \n",
       "4                        1   36               1                  NaN   \n",
       "\n",
       "   marital_status_edit  education  gestationnal_age  type_pregnancy   \n",
       "0                    2          5              37.0               1  \\\n",
       "1                    2          5              42.0               1   \n",
       "2                    2          5              41.0               1   \n",
       "3                    2          5              37.5               1   \n",
       "4                    1          5              40.0               1   \n",
       "\n",
       "   sex_baby1  cbts_m_3  cbts_m_4  cbts_m_5  cbts_m_6  cbts_m_7  cbts_m_8   \n",
       "0          1         0         0         0         0         0         0  \\\n",
       "1          2         0         0         0         0         0         0   \n",
       "2          1         0         0         1         0         0         0   \n",
       "3          2         0         0         1         1         1         0   \n",
       "4          2         0         0         0         0         0         0   \n",
       "\n",
       "   cbts_m_9  cbts_m_10  cbts_m_11  cbts_m_12  cbts_13  cbts_14  cbts_15   \n",
       "0         0          1          0          0        0        0        0  \\\n",
       "1         0          0          0          0        0        0        0   \n",
       "2         0          0          0          1        1        0        0   \n",
       "3         0          1          1          1        2        0        1   \n",
       "4         0          0          0          0        0        0        0   \n",
       "\n",
       "   cbts_16  cbts_17  cbts_18  cbts_19  cbts_20  cbts_21  cbts_22  epds_1   \n",
       "0        0        2        0        2        0        0        1       1  \\\n",
       "1        0        0        0        0        0        0        0       0   \n",
       "2        0        2        0        2        0        2        0       1   \n",
       "3        0        1        0        2        0        2        0       1   \n",
       "4        0        1        0        1        0        0        1       0   \n",
       "\n",
       "   epds_2  epds_3  epds_4  epds_5  epds_6  epds_7  epds_8  epds_9  epds_10   \n",
       "0       2       2       1       1       2       0       2       2        0  \\\n",
       "1       0       0       0       0       0       0       0       0        0   \n",
       "2       0       2       1       0       2       0       1       1        0   \n",
       "3       1       2       2       2       2       2       2       1        1   \n",
       "4       0       1       0       0       2       0       0       0        0   \n",
       "\n",
       "   hads_1  hads_3  hads_5  hads_7  hads_9  hads_11  hads_13   \n",
       "0       2       1       2       2       0        1        1  \\\n",
       "1       1       0       1       0       0        1        0   \n",
       "2       2       1       1       2       0        3        0   \n",
       "3       1       3       3       1       2        2        1   \n",
       "4       1       0       0       1       0        1        0   \n",
       "\n",
       "   child_survey_participation  age_bb  ibq_r_vsf_3_bb1  ibq_r_vsf_4_bb1   \n",
       "0                           1       1              6.0              NaN  \\\n",
       "1                           1       3              1.0              4.0   \n",
       "2                           1       1              1.0              NaN   \n",
       "3                           1       3              2.0              5.0   \n",
       "4                           1       3              2.0              6.0   \n",
       "\n",
       "   ibq_r_vsf_9_bb1  ibq_r_vsf_10_bb1  ibq_r_vsf_16_bb1  ibq_r_vsf_17_bb1   \n",
       "0              7.0               NaN               7.0               NaN  \\\n",
       "1              2.0               2.0               3.0               2.0   \n",
       "2              NaN               4.0               4.0               3.0   \n",
       "3              2.0               1.0               3.0               NaN   \n",
       "4              2.0               4.0               2.0               2.0   \n",
       "\n",
       "   ibq_r_vsf_28_bb1  ibq_r_vsf_29_bb1  ibq_r_vsf_32_bb1  ibq_r_vsf_33_bb1   \n",
       "0               NaN               7.0               6.0               NaN  \\\n",
       "1               2.0               2.0               3.0               4.0   \n",
       "2               1.0               4.0               NaN               NaN   \n",
       "3               NaN               NaN               5.0               NaN   \n",
       "4               4.0               5.0               6.0               6.0   \n",
       "\n",
       "  sleep_night_duration_bb1  night_awakening_number_bb1  how_falling_asleep_bb1  \n",
       "0                    10:00                           3                       2  \n",
       "1                    11:00                           0                       4  \n",
       "2                    12:00                           1                       2  \n",
       "3                    11:00                           2                       1  \n",
       "4                    10:30                           1                       4  "
      ]
     },
     "execution_count": 5,
     "metadata": {},
     "output_type": "execute_result"
    }
   ],
   "source": [
    "# lowering the headers of the columns\n",
    "data.columns = data.columns.str.lower()\n",
    "data.head()"
   ]
  },
  {
   "cell_type": "code",
   "execution_count": 6,
   "id": "2af975a5",
   "metadata": {},
   "outputs": [
    {
     "data": {
      "text/plain": [
       "(410, 26)"
      ]
     },
     "execution_count": 6,
     "metadata": {},
     "output_type": "execute_result"
    }
   ],
   "source": [
    "# droping 37 columns that describe the maternal health according to 3 questionnaires, \n",
    "# and \"Marital_staus_autre\" column that had 99.5% of Nan\n",
    "import re\n",
    "\n",
    "pattern1 = \"(cbts_|cbts_m_)\\d?\"\n",
    "pattern2 = \"epds_\\d?\"\n",
    "pattern3 = \"hads_\\d?\"\n",
    "pattern4 = \"marital_status_autre\"\n",
    "\n",
    "cols_to_drop = data.filter(regex = pattern1 + \"|\" + pattern2 + \"|\" + pattern3 + \"|\" + pattern4).columns\n",
    "\n",
    "data =data.drop(columns=cols_to_drop)\n",
    "data.shape"
   ]
  },
  {
   "cell_type": "code",
   "execution_count": 7,
   "id": "46bf6767",
   "metadata": {},
   "outputs": [],
   "source": [
    "# All the missing values in our reduced dataset are from the questions related to Infant Behavior Questionnaire. \n",
    "# I have to fill this values because I want to use this vars for exploratory data analysis."
   ]
  },
  {
   "cell_type": "code",
   "execution_count": 8,
   "id": "780ab4ab",
   "metadata": {},
   "outputs": [
    {
     "data": {
      "text/plain": [
       "child_survey_participation\n",
       "1    410\n",
       "Name: count, dtype: int64"
      ]
     },
     "execution_count": 8,
     "metadata": {},
     "output_type": "execute_result"
    }
   ],
   "source": [
    "# One column in a dataset identifies if the participant wanted to take part in the optional part of the survey. I want to check\n",
    "# if the missing values are related to answering \"NO\" to this question. \n",
    "# However, all the answers are positive. THerefore I will fill the missing values\n",
    "data[\"child_survey_participation\"].value_counts()"
   ]
  },
  {
   "cell_type": "code",
   "execution_count": 9,
   "id": "617a2ad2",
   "metadata": {},
   "outputs": [
    {
     "data": {
      "image/png": "[encoded data removed]",
      "text/plain": [
       "<Figure size 1500x1000 with 10 Axes>"
      ]
     },
     "metadata": {},
     "output_type": "display_data"
    }
   ],
   "source": [
    "import seaborn as sns\n",
    "import matplotlib.pyplot as plt\n",
    "\n",
    "fig, ax = plt.subplots(5,2, figsize=(15,10))\n",
    "sns.histplot(x=\"ibq_r_vsf_3_bb1\", data = data, ax = ax[0,0])\n",
    "ax[0,0].set_title(\"Shows distress, when tired\")\n",
    "sns.histplot(x=\"ibq_r_vsf_4_bb1\", data = data, ax = ax[0,1])\n",
    "ax[0,1].set_title(\"Latches to a parent, when introduced to an unknown adult\")\n",
    "sns.histplot(x=\"ibq_r_vsf_9_bb1\", data = data, ax = ax[1,0])\n",
    "ax[1,0].set_title(\"Whines, when did not want to go to sleep\")\n",
    "sns.histplot(x=\"ibq_r_vsf_10_bb1\", data = data, ax = ax[1,1])\n",
    "ax[1,1].set_title(\"Cries when noone comes quickly after sleep\")\n",
    "sns.histplot(x=\"ibq_r_vsf_16_bb1\", data = data, ax = ax[2,0])\n",
    "ax[2,0].set_title(\"Angry baby, when putting him/her to sleep\")\n",
    "sns.histplot(x=\"ibq_r_vsf_17_bb1\", data = data, ax = ax[2,1])\n",
    "ax[2,1].set_title(\"Startled by a sudden change in body position\")\n",
    "sns.histplot(x=\"ibq_r_vsf_28_bb1\", data = data, ax = ax[3,0])\n",
    "ax[3,0].set_title(\"Refuses to go to a new person after introduction\")\n",
    "sns.histplot(x=\"ibq_r_vsf_29_bb1\", data = data, ax = ax[3,1])\n",
    "ax[3,1].set_title(\"Cries when you are busy and don´t give attention\")\n",
    "sns.histplot(x=\"ibq_r_vsf_32_bb1\", data = data, ax = ax[4,0])\n",
    "ax[4,0].set_title(\"Gets upset when he/she does not get what he/she wants\")\n",
    "sns.histplot(x=\"ibq_r_vsf_33_bb1\", data = data, ax = ax[4,1])\n",
    "ax[4,1].set_title(\"Clings to a parent in a presence of unfamiliar adults\")\n",
    "plt.show()"
   ]
  },
  {
   "cell_type": "code",
   "execution_count": 10,
   "id": "43ee64c9",
   "metadata": {},
   "outputs": [],
   "source": [
    "from sklearn.impute import KNNImputer"
   ]
  },
  {
   "cell_type": "code",
   "execution_count": 11,
   "id": "de47ffcb",
   "metadata": {},
   "outputs": [
    {
     "data": {
      "text/plain": [
       "participant_number              int64\n",
       "type_parents                    int64\n",
       "birth_1mth_m_inclusion          int64\n",
       "birth_12mth_m_inclusion         int64\n",
       "age                             int64\n",
       "marital_status                  int64\n",
       "marital_status_edit             int64\n",
       "education                       int64\n",
       "gestationnal_age              float64\n",
       "type_pregnancy                  int64\n",
       "sex_baby1                       int64\n",
       "child_survey_participation      int64\n",
       "age_bb                          int64\n",
       "ibq_r_vsf_3_bb1               float64\n",
       "ibq_r_vsf_4_bb1               float64\n",
       "ibq_r_vsf_9_bb1               float64\n",
       "ibq_r_vsf_10_bb1              float64\n",
       "ibq_r_vsf_16_bb1              float64\n",
       "ibq_r_vsf_17_bb1              float64\n",
       "ibq_r_vsf_28_bb1              float64\n",
       "ibq_r_vsf_29_bb1              float64\n",
       "ibq_r_vsf_32_bb1              float64\n",
       "ibq_r_vsf_33_bb1              float64\n",
       "sleep_night_duration_bb1       object\n",
       "night_awakening_number_bb1      int64\n",
       "how_falling_asleep_bb1          int64\n",
       "dtype: object"
      ]
     },
     "execution_count": 11,
     "metadata": {},
     "output_type": "execute_result"
    }
   ],
   "source": [
    "data.dtypes\n",
    "# all the ibq vars are float, they can be used for knn method to replace Nan values"
   ]
  },
  {
   "cell_type": "code",
   "execution_count": null,
   "id": "79052a9d",
   "metadata": {},
   "outputs": [],
   "source": [
    "#I have to replace Nan values in 10 columns. I am doing it one by one."
   ]
  },
  {
   "cell_type": "code",
   "execution_count": 13,
   "id": "f591c4ba",
   "metadata": {},
   "outputs": [
    {
     "data": {
      "text/plain": [
       "participant_number            float64\n",
       "type_parents                  float64\n",
       "birth_1mth_m_inclusion        float64\n",
       "birth_12mth_m_inclusion       float64\n",
       "age                           float64\n",
       "marital_status                float64\n",
       "marital_status_edit           float64\n",
       "education                     float64\n",
       "gestationnal_age              float64\n",
       "type_pregnancy                float64\n",
       "sex_baby1                     float64\n",
       "child_survey_participation    float64\n",
       "age_bb                        float64\n",
       "ibq_r_vsf_3_bb1               float64\n",
       "how_falling_asleep_bb1        float64\n",
       "dtype: object"
      ]
     },
     "execution_count": 13,
     "metadata": {},
     "output_type": "execute_result"
    }
   ],
   "source": [
    "imputer = KNNImputer(n_neighbors=5)\n",
    "\n",
    "X_ibq_r_vsf_3_bb1 = data.drop(['ibq_r_vsf_4_bb1','ibq_r_vsf_9_bb1','ibq_r_vsf_10_bb1','ibq_r_vsf_16_bb1', 'ibq_r_vsf_17_bb1',\n",
    "                              'ibq_r_vsf_28_bb1', 'ibq_r_vsf_29_bb1', 'ibq_r_vsf_32_bb1', 'ibq_r_vsf_33_bb1','sleep_night_duration_bb1',\n",
    "                              \"night_awakening_number_bb1\"] ,axis=1)\n",
    "X_ibq_r_vsf_3_bb1_inputed_np = imputer.fit_transform(X_ibq_r_vsf_3_bb1)\n",
    "X_ibq_r_vsf_3_bb1_inputed_df = pd.DataFrame(X_ibq_r_vsf_3_bb1_inputed_np, columns=X_ibq_r_vsf_3_bb1.columns, index=X_ibq_r_vsf_3_bb1.index)\n",
    "X_ibq_r_vsf_3_bb1_inputed_df.dtypes"
   ]
  },
  {
   "cell_type": "code",
   "execution_count": 14,
   "id": "b76bdbf3",
   "metadata": {},
   "outputs": [
    {
     "data": {
      "text/plain": [
       "array([6. , 1. , 2. , 7. , 4. , 3. , 5. , 2.2, 2.8, 4.4])"
      ]
     },
     "execution_count": 14,
     "metadata": {},
     "output_type": "execute_result"
    }
   ],
   "source": [
    "X_ibq_r_vsf_3_bb1_inputed_df[\"ibq_r_vsf_3_bb1\"].unique()"
   ]
  },
  {
   "cell_type": "code",
   "execution_count": 15,
   "id": "41c893db",
   "metadata": {},
   "outputs": [],
   "source": [
    "X_ibq_r_vsf_3_bb1_inputed_df['ibq_r_vsf_3_bb1'] = X_ibq_r_vsf_3_bb1_inputed_df['ibq_r_vsf_3_bb1'].apply(lambda x: int(round(x)))"
   ]
  },
  {
   "cell_type": "code",
   "execution_count": 16,
   "id": "30b2e390",
   "metadata": {},
   "outputs": [
    {
     "data": {
      "text/plain": [
       "array([6, 1, 2, 7, 4, 3, 5], dtype=int64)"
      ]
     },
     "execution_count": 16,
     "metadata": {},
     "output_type": "execute_result"
    }
   ],
   "source": [
    "X_ibq_r_vsf_3_bb1_inputed_df[\"ibq_r_vsf_3_bb1\"].unique()"
   ]
  },
  {
   "cell_type": "code",
   "execution_count": 17,
   "id": "8fb45c86",
   "metadata": {},
   "outputs": [
    {
     "data": {
      "text/plain": [
       "participant_number             0.00\n",
       "type_parents                   0.00\n",
       "birth_1mth_m_inclusion         0.00\n",
       "birth_12mth_m_inclusion        0.00\n",
       "age                            0.00\n",
       "marital_status                 0.00\n",
       "marital_status_edit            0.00\n",
       "education                      0.00\n",
       "gestationnal_age               0.00\n",
       "type_pregnancy                 0.00\n",
       "sex_baby1                      0.00\n",
       "child_survey_participation     0.00\n",
       "age_bb                         0.00\n",
       "ibq_r_vsf_3_bb1                0.00\n",
       "ibq_r_vsf_4_bb1                8.05\n",
       "ibq_r_vsf_9_bb1                8.29\n",
       "ibq_r_vsf_10_bb1               8.54\n",
       "ibq_r_vsf_16_bb1               3.90\n",
       "ibq_r_vsf_17_bb1              19.76\n",
       "ibq_r_vsf_28_bb1              15.37\n",
       "ibq_r_vsf_29_bb1               3.66\n",
       "ibq_r_vsf_32_bb1               7.80\n",
       "ibq_r_vsf_33_bb1              20.49\n",
       "sleep_night_duration_bb1       0.00\n",
       "night_awakening_number_bb1     0.00\n",
       "how_falling_asleep_bb1         0.00\n",
       "dtype: float64"
      ]
     },
     "execution_count": 17,
     "metadata": {},
     "output_type": "execute_result"
    }
   ],
   "source": [
    "data.loc[:,'ibq_r_vsf_3_bb1'] = X_ibq_r_vsf_3_bb1_inputed_df['ibq_r_vsf_3_bb1']\n",
    "round(data.isna().sum()/len(data),4)*100"
   ]
  },
  {
   "cell_type": "code",
   "execution_count": 18,
   "id": "e8533710",
   "metadata": {},
   "outputs": [
    {
     "data": {
      "text/plain": [
       "participant_number            float64\n",
       "type_parents                  float64\n",
       "birth_1mth_m_inclusion        float64\n",
       "birth_12mth_m_inclusion       float64\n",
       "age                           float64\n",
       "marital_status                float64\n",
       "marital_status_edit           float64\n",
       "education                     float64\n",
       "gestationnal_age              float64\n",
       "type_pregnancy                float64\n",
       "sex_baby1                     float64\n",
       "child_survey_participation    float64\n",
       "age_bb                        float64\n",
       "ibq_r_vsf_3_bb1               float64\n",
       "ibq_r_vsf_4_bb1               float64\n",
       "how_falling_asleep_bb1        float64\n",
       "dtype: object"
      ]
     },
     "execution_count": 18,
     "metadata": {},
     "output_type": "execute_result"
    }
   ],
   "source": [
    "X_ibq_r_vsf_4_bb1 = data.drop(['ibq_r_vsf_9_bb1','ibq_r_vsf_10_bb1','ibq_r_vsf_16_bb1', 'ibq_r_vsf_17_bb1',\n",
    "                              'ibq_r_vsf_28_bb1', 'ibq_r_vsf_29_bb1', 'ibq_r_vsf_32_bb1', 'ibq_r_vsf_33_bb1','sleep_night_duration_bb1',\n",
    "                              \"night_awakening_number_bb1\"] ,axis=1)\n",
    "X_ibq_r_vsf_4_bb1_inputed_np = imputer.fit_transform(X_ibq_r_vsf_4_bb1)\n",
    "X_ibq_r_vsf_4_bb1_inputed_df = pd.DataFrame(X_ibq_r_vsf_4_bb1_inputed_np, columns=X_ibq_r_vsf_4_bb1.columns, index=X_ibq_r_vsf_4_bb1.index)\n",
    "X_ibq_r_vsf_4_bb1_inputed_df.dtypes"
   ]
  },
  {
   "cell_type": "code",
   "execution_count": 19,
   "id": "ec2948f1",
   "metadata": {},
   "outputs": [],
   "source": [
    "X_ibq_r_vsf_4_bb1_inputed_df['ibq_r_vsf_4_bb1'] = X_ibq_r_vsf_4_bb1_inputed_df['ibq_r_vsf_4_bb1'].apply(lambda x: int(round(x)))"
   ]
  },
  {
   "cell_type": "code",
   "execution_count": 20,
   "id": "c186fc8a",
   "metadata": {},
   "outputs": [
    {
     "data": {
      "text/plain": [
       "array([5, 4, 6, 1, 7, 2, 3], dtype=int64)"
      ]
     },
     "execution_count": 20,
     "metadata": {},
     "output_type": "execute_result"
    }
   ],
   "source": [
    "X_ibq_r_vsf_4_bb1_inputed_df[\"ibq_r_vsf_4_bb1\"].unique()"
   ]
  },
  {
   "cell_type": "code",
   "execution_count": 21,
   "id": "5f2c3b69",
   "metadata": {},
   "outputs": [
    {
     "data": {
      "text/plain": [
       "participant_number             0.00\n",
       "type_parents                   0.00\n",
       "birth_1mth_m_inclusion         0.00\n",
       "birth_12mth_m_inclusion        0.00\n",
       "age                            0.00\n",
       "marital_status                 0.00\n",
       "marital_status_edit            0.00\n",
       "education                      0.00\n",
       "gestationnal_age               0.00\n",
       "type_pregnancy                 0.00\n",
       "sex_baby1                      0.00\n",
       "child_survey_participation     0.00\n",
       "age_bb                         0.00\n",
       "ibq_r_vsf_3_bb1                0.00\n",
       "ibq_r_vsf_4_bb1                0.00\n",
       "ibq_r_vsf_9_bb1                8.29\n",
       "ibq_r_vsf_10_bb1               8.54\n",
       "ibq_r_vsf_16_bb1               3.90\n",
       "ibq_r_vsf_17_bb1              19.76\n",
       "ibq_r_vsf_28_bb1              15.37\n",
       "ibq_r_vsf_29_bb1               3.66\n",
       "ibq_r_vsf_32_bb1               7.80\n",
       "ibq_r_vsf_33_bb1              20.49\n",
       "sleep_night_duration_bb1       0.00\n",
       "night_awakening_number_bb1     0.00\n",
       "how_falling_asleep_bb1         0.00\n",
       "dtype: float64"
      ]
     },
     "execution_count": 21,
     "metadata": {},
     "output_type": "execute_result"
    }
   ],
   "source": [
    "data.loc[:,'ibq_r_vsf_4_bb1'] = X_ibq_r_vsf_4_bb1_inputed_df['ibq_r_vsf_4_bb1']\n",
    "round(data.isna().sum()/len(data),4)*100"
   ]
  },
  {
   "cell_type": "code",
   "execution_count": 22,
   "id": "db915831",
   "metadata": {},
   "outputs": [
    {
     "data": {
      "text/plain": [
       "participant_number            float64\n",
       "type_parents                  float64\n",
       "birth_1mth_m_inclusion        float64\n",
       "birth_12mth_m_inclusion       float64\n",
       "age                           float64\n",
       "marital_status                float64\n",
       "marital_status_edit           float64\n",
       "education                     float64\n",
       "gestationnal_age              float64\n",
       "type_pregnancy                float64\n",
       "sex_baby1                     float64\n",
       "child_survey_participation    float64\n",
       "age_bb                        float64\n",
       "ibq_r_vsf_3_bb1               float64\n",
       "ibq_r_vsf_4_bb1               float64\n",
       "ibq_r_vsf_9_bb1               float64\n",
       "how_falling_asleep_bb1        float64\n",
       "dtype: object"
      ]
     },
     "execution_count": 22,
     "metadata": {},
     "output_type": "execute_result"
    }
   ],
   "source": [
    "X_ibq_r_vsf_9_bb1 = data.drop(['ibq_r_vsf_10_bb1','ibq_r_vsf_16_bb1', 'ibq_r_vsf_17_bb1', 'ibq_r_vsf_28_bb1', 'ibq_r_vsf_29_bb1', \n",
    "                               'ibq_r_vsf_32_bb1', 'ibq_r_vsf_33_bb1','sleep_night_duration_bb1', \"night_awakening_number_bb1\"] ,axis=1)\n",
    "X_ibq_r_vsf_9_bb1_inputed_np = imputer.fit_transform(X_ibq_r_vsf_9_bb1)\n",
    "X_ibq_r_vsf_9_bb1_inputed_df = pd.DataFrame(X_ibq_r_vsf_9_bb1_inputed_np, columns=X_ibq_r_vsf_9_bb1.columns, index=X_ibq_r_vsf_9_bb1.index)\n",
    "X_ibq_r_vsf_9_bb1_inputed_df.dtypes"
   ]
  },
  {
   "cell_type": "code",
   "execution_count": 23,
   "id": "44bfcd29",
   "metadata": {},
   "outputs": [],
   "source": [
    "X_ibq_r_vsf_9_bb1_inputed_df['ibq_r_vsf_9_bb1'] = X_ibq_r_vsf_9_bb1_inputed_df['ibq_r_vsf_9_bb1'].apply(lambda x: int(round(x)))"
   ]
  },
  {
   "cell_type": "code",
   "execution_count": 24,
   "id": "968cce9e",
   "metadata": {},
   "outputs": [
    {
     "data": {
      "text/plain": [
       "array([7, 2, 3, 4, 6, 1, 5], dtype=int64)"
      ]
     },
     "execution_count": 24,
     "metadata": {},
     "output_type": "execute_result"
    }
   ],
   "source": [
    "X_ibq_r_vsf_9_bb1_inputed_df[\"ibq_r_vsf_9_bb1\"].unique()"
   ]
  },
  {
   "cell_type": "code",
   "execution_count": 25,
   "id": "3a149964",
   "metadata": {},
   "outputs": [
    {
     "data": {
      "text/plain": [
       "participant_number             0.00\n",
       "type_parents                   0.00\n",
       "birth_1mth_m_inclusion         0.00\n",
       "birth_12mth_m_inclusion        0.00\n",
       "age                            0.00\n",
       "marital_status                 0.00\n",
       "marital_status_edit            0.00\n",
       "education                      0.00\n",
       "gestationnal_age               0.00\n",
       "type_pregnancy                 0.00\n",
       "sex_baby1                      0.00\n",
       "child_survey_participation     0.00\n",
       "age_bb                         0.00\n",
       "ibq_r_vsf_3_bb1                0.00\n",
       "ibq_r_vsf_4_bb1                0.00\n",
       "ibq_r_vsf_9_bb1                0.00\n",
       "ibq_r_vsf_10_bb1               8.54\n",
       "ibq_r_vsf_16_bb1               3.90\n",
       "ibq_r_vsf_17_bb1              19.76\n",
       "ibq_r_vsf_28_bb1              15.37\n",
       "ibq_r_vsf_29_bb1               3.66\n",
       "ibq_r_vsf_32_bb1               7.80\n",
       "ibq_r_vsf_33_bb1              20.49\n",
       "sleep_night_duration_bb1       0.00\n",
       "night_awakening_number_bb1     0.00\n",
       "how_falling_asleep_bb1         0.00\n",
       "dtype: float64"
      ]
     },
     "execution_count": 25,
     "metadata": {},
     "output_type": "execute_result"
    }
   ],
   "source": [
    "data.loc[:,'ibq_r_vsf_9_bb1'] = X_ibq_r_vsf_9_bb1_inputed_df['ibq_r_vsf_9_bb1']\n",
    "round(data.isna().sum()/len(data),4)*100"
   ]
  },
  {
   "cell_type": "code",
   "execution_count": 26,
   "id": "ffc4f6de",
   "metadata": {},
   "outputs": [
    {
     "data": {
      "text/plain": [
       "participant_number            float64\n",
       "type_parents                  float64\n",
       "birth_1mth_m_inclusion        float64\n",
       "birth_12mth_m_inclusion       float64\n",
       "age                           float64\n",
       "marital_status                float64\n",
       "marital_status_edit           float64\n",
       "education                     float64\n",
       "gestationnal_age              float64\n",
       "type_pregnancy                float64\n",
       "sex_baby1                     float64\n",
       "child_survey_participation    float64\n",
       "age_bb                        float64\n",
       "ibq_r_vsf_3_bb1               float64\n",
       "ibq_r_vsf_4_bb1               float64\n",
       "ibq_r_vsf_9_bb1               float64\n",
       "ibq_r_vsf_10_bb1              float64\n",
       "how_falling_asleep_bb1        float64\n",
       "dtype: object"
      ]
     },
     "execution_count": 26,
     "metadata": {},
     "output_type": "execute_result"
    }
   ],
   "source": [
    "X_ibq_r_vsf_10_bb1 = data.drop(['ibq_r_vsf_16_bb1', 'ibq_r_vsf_17_bb1','ibq_r_vsf_28_bb1', 'ibq_r_vsf_29_bb1', \n",
    "                                'ibq_r_vsf_32_bb1', 'ibq_r_vsf_33_bb1','sleep_night_duration_bb1', \"night_awakening_number_bb1\"] ,axis=1)\n",
    "X_ibq_r_vsf_10_bb1_inputed_np = imputer.fit_transform(X_ibq_r_vsf_10_bb1)\n",
    "X_ibq_r_vsf_10_bb1_inputed_df = pd.DataFrame(X_ibq_r_vsf_10_bb1_inputed_np, columns=X_ibq_r_vsf_10_bb1.columns, index=X_ibq_r_vsf_10_bb1.index)\n",
    "X_ibq_r_vsf_10_bb1_inputed_df.dtypes"
   ]
  },
  {
   "cell_type": "code",
   "execution_count": 27,
   "id": "0bcbde72",
   "metadata": {},
   "outputs": [],
   "source": [
    "X_ibq_r_vsf_10_bb1_inputed_df['ibq_r_vsf_10_bb1'] = X_ibq_r_vsf_10_bb1_inputed_df['ibq_r_vsf_10_bb1'].apply(lambda x: int(round(x)))"
   ]
  },
  {
   "cell_type": "code",
   "execution_count": 28,
   "id": "b28d312f",
   "metadata": {},
   "outputs": [
    {
     "data": {
      "text/plain": [
       "array([3, 2, 4, 1, 5, 6, 7], dtype=int64)"
      ]
     },
     "execution_count": 28,
     "metadata": {},
     "output_type": "execute_result"
    }
   ],
   "source": [
    "X_ibq_r_vsf_10_bb1_inputed_df[\"ibq_r_vsf_10_bb1\"].unique()"
   ]
  },
  {
   "cell_type": "code",
   "execution_count": 29,
   "id": "83848c3d",
   "metadata": {},
   "outputs": [
    {
     "data": {
      "text/plain": [
       "participant_number             0.00\n",
       "type_parents                   0.00\n",
       "birth_1mth_m_inclusion         0.00\n",
       "birth_12mth_m_inclusion        0.00\n",
       "age                            0.00\n",
       "marital_status                 0.00\n",
       "marital_status_edit            0.00\n",
       "education                      0.00\n",
       "gestationnal_age               0.00\n",
       "type_pregnancy                 0.00\n",
       "sex_baby1                      0.00\n",
       "child_survey_participation     0.00\n",
       "age_bb                         0.00\n",
       "ibq_r_vsf_3_bb1                0.00\n",
       "ibq_r_vsf_4_bb1                0.00\n",
       "ibq_r_vsf_9_bb1                0.00\n",
       "ibq_r_vsf_10_bb1               0.00\n",
       "ibq_r_vsf_16_bb1               3.90\n",
       "ibq_r_vsf_17_bb1              19.76\n",
       "ibq_r_vsf_28_bb1              15.37\n",
       "ibq_r_vsf_29_bb1               3.66\n",
       "ibq_r_vsf_32_bb1               7.80\n",
       "ibq_r_vsf_33_bb1              20.49\n",
       "sleep_night_duration_bb1       0.00\n",
       "night_awakening_number_bb1     0.00\n",
       "how_falling_asleep_bb1         0.00\n",
       "dtype: float64"
      ]
     },
     "execution_count": 29,
     "metadata": {},
     "output_type": "execute_result"
    }
   ],
   "source": [
    "data.loc[:,'ibq_r_vsf_10_bb1'] = X_ibq_r_vsf_10_bb1_inputed_df['ibq_r_vsf_10_bb1']\n",
    "round(data.isna().sum()/len(data),4)*100"
   ]
  },
  {
   "cell_type": "code",
   "execution_count": 30,
   "id": "35bbf4d9",
   "metadata": {},
   "outputs": [
    {
     "data": {
      "text/plain": [
       "participant_number            float64\n",
       "type_parents                  float64\n",
       "birth_1mth_m_inclusion        float64\n",
       "birth_12mth_m_inclusion       float64\n",
       "age                           float64\n",
       "marital_status                float64\n",
       "marital_status_edit           float64\n",
       "education                     float64\n",
       "gestationnal_age              float64\n",
       "type_pregnancy                float64\n",
       "sex_baby1                     float64\n",
       "child_survey_participation    float64\n",
       "age_bb                        float64\n",
       "ibq_r_vsf_3_bb1               float64\n",
       "ibq_r_vsf_4_bb1               float64\n",
       "ibq_r_vsf_9_bb1               float64\n",
       "ibq_r_vsf_10_bb1              float64\n",
       "ibq_r_vsf_16_bb1              float64\n",
       "how_falling_asleep_bb1        float64\n",
       "dtype: object"
      ]
     },
     "execution_count": 30,
     "metadata": {},
     "output_type": "execute_result"
    }
   ],
   "source": [
    "X_ibq_r_vsf_16_bb1 = data.drop(['ibq_r_vsf_17_bb1', 'ibq_r_vsf_28_bb1', 'ibq_r_vsf_29_bb1', 'ibq_r_vsf_32_bb1', 'ibq_r_vsf_33_bb1',\n",
    "                                'sleep_night_duration_bb1', \"night_awakening_number_bb1\"] ,axis=1)\n",
    "X_ibq_r_vsf_16_bb1_inputed_np = imputer.fit_transform(X_ibq_r_vsf_16_bb1)\n",
    "X_ibq_r_vsf_16_bb1_inputed_df = pd.DataFrame(X_ibq_r_vsf_16_bb1_inputed_np, columns=X_ibq_r_vsf_16_bb1.columns, index=X_ibq_r_vsf_16_bb1.index)\n",
    "X_ibq_r_vsf_16_bb1_inputed_df.dtypes"
   ]
  },
  {
   "cell_type": "code",
   "execution_count": 31,
   "id": "ea9b1e9b",
   "metadata": {},
   "outputs": [],
   "source": [
    "X_ibq_r_vsf_16_bb1_inputed_df['ibq_r_vsf_16_bb1'] = X_ibq_r_vsf_16_bb1_inputed_df['ibq_r_vsf_16_bb1'].apply(lambda x: int(round(x)))"
   ]
  },
  {
   "cell_type": "code",
   "execution_count": 32,
   "id": "708d442e",
   "metadata": {},
   "outputs": [
    {
     "data": {
      "text/plain": [
       "array([7, 3, 4, 2, 1, 6, 5], dtype=int64)"
      ]
     },
     "execution_count": 32,
     "metadata": {},
     "output_type": "execute_result"
    }
   ],
   "source": [
    "X_ibq_r_vsf_16_bb1_inputed_df[\"ibq_r_vsf_16_bb1\"].unique()"
   ]
  },
  {
   "cell_type": "code",
   "execution_count": 33,
   "id": "f6c8b694",
   "metadata": {},
   "outputs": [
    {
     "data": {
      "text/plain": [
       "participant_number             0.00\n",
       "type_parents                   0.00\n",
       "birth_1mth_m_inclusion         0.00\n",
       "birth_12mth_m_inclusion        0.00\n",
       "age                            0.00\n",
       "marital_status                 0.00\n",
       "marital_status_edit            0.00\n",
       "education                      0.00\n",
       "gestationnal_age               0.00\n",
       "type_pregnancy                 0.00\n",
       "sex_baby1                      0.00\n",
       "child_survey_participation     0.00\n",
       "age_bb                         0.00\n",
       "ibq_r_vsf_3_bb1                0.00\n",
       "ibq_r_vsf_4_bb1                0.00\n",
       "ibq_r_vsf_9_bb1                0.00\n",
       "ibq_r_vsf_10_bb1               0.00\n",
       "ibq_r_vsf_16_bb1               0.00\n",
       "ibq_r_vsf_17_bb1              19.76\n",
       "ibq_r_vsf_28_bb1              15.37\n",
       "ibq_r_vsf_29_bb1               3.66\n",
       "ibq_r_vsf_32_bb1               7.80\n",
       "ibq_r_vsf_33_bb1              20.49\n",
       "sleep_night_duration_bb1       0.00\n",
       "night_awakening_number_bb1     0.00\n",
       "how_falling_asleep_bb1         0.00\n",
       "dtype: float64"
      ]
     },
     "execution_count": 33,
     "metadata": {},
     "output_type": "execute_result"
    }
   ],
   "source": [
    "data.loc[:,'ibq_r_vsf_16_bb1'] = X_ibq_r_vsf_16_bb1_inputed_df['ibq_r_vsf_16_bb1']\n",
    "round(data.isna().sum()/len(data),4)*100"
   ]
  },
  {
   "cell_type": "code",
   "execution_count": 34,
   "id": "4c5c65af",
   "metadata": {},
   "outputs": [
    {
     "data": {
      "text/plain": [
       "participant_number            float64\n",
       "type_parents                  float64\n",
       "birth_1mth_m_inclusion        float64\n",
       "birth_12mth_m_inclusion       float64\n",
       "age                           float64\n",
       "marital_status                float64\n",
       "marital_status_edit           float64\n",
       "education                     float64\n",
       "gestationnal_age              float64\n",
       "type_pregnancy                float64\n",
       "sex_baby1                     float64\n",
       "child_survey_participation    float64\n",
       "age_bb                        float64\n",
       "ibq_r_vsf_3_bb1               float64\n",
       "ibq_r_vsf_4_bb1               float64\n",
       "ibq_r_vsf_9_bb1               float64\n",
       "ibq_r_vsf_10_bb1              float64\n",
       "ibq_r_vsf_16_bb1              float64\n",
       "ibq_r_vsf_17_bb1              float64\n",
       "how_falling_asleep_bb1        float64\n",
       "dtype: object"
      ]
     },
     "execution_count": 34,
     "metadata": {},
     "output_type": "execute_result"
    }
   ],
   "source": [
    "X_ibq_r_vsf_17_bb1 = data.drop(['ibq_r_vsf_28_bb1', 'ibq_r_vsf_29_bb1', 'ibq_r_vsf_32_bb1', 'ibq_r_vsf_33_bb1',\n",
    "                                'sleep_night_duration_bb1', \"night_awakening_number_bb1\"] ,axis=1)\n",
    "X_ibq_r_vsf_17_bb1_inputed_np = imputer.fit_transform(X_ibq_r_vsf_17_bb1)\n",
    "X_ibq_r_vsf_17_bb1_inputed_df = pd.DataFrame(X_ibq_r_vsf_17_bb1_inputed_np, columns=X_ibq_r_vsf_17_bb1.columns, index=X_ibq_r_vsf_17_bb1.index)\n",
    "X_ibq_r_vsf_17_bb1_inputed_df.dtypes"
   ]
  },
  {
   "cell_type": "code",
   "execution_count": 35,
   "id": "21411442",
   "metadata": {},
   "outputs": [],
   "source": [
    "X_ibq_r_vsf_17_bb1_inputed_df['ibq_r_vsf_17_bb1'] = X_ibq_r_vsf_17_bb1_inputed_df['ibq_r_vsf_17_bb1'].apply(lambda x: int(round(x)))"
   ]
  },
  {
   "cell_type": "code",
   "execution_count": 36,
   "id": "deb2cbfb",
   "metadata": {},
   "outputs": [
    {
     "data": {
      "text/plain": [
       "array([3, 2, 1, 5, 6, 4, 7], dtype=int64)"
      ]
     },
     "execution_count": 36,
     "metadata": {},
     "output_type": "execute_result"
    }
   ],
   "source": [
    "X_ibq_r_vsf_17_bb1_inputed_df[\"ibq_r_vsf_17_bb1\"].unique()"
   ]
  },
  {
   "cell_type": "code",
   "execution_count": 37,
   "id": "4fae8e37",
   "metadata": {},
   "outputs": [
    {
     "data": {
      "text/plain": [
       "participant_number             0.00\n",
       "type_parents                   0.00\n",
       "birth_1mth_m_inclusion         0.00\n",
       "birth_12mth_m_inclusion        0.00\n",
       "age                            0.00\n",
       "marital_status                 0.00\n",
       "marital_status_edit            0.00\n",
       "education                      0.00\n",
       "gestationnal_age               0.00\n",
       "type_pregnancy                 0.00\n",
       "sex_baby1                      0.00\n",
       "child_survey_participation     0.00\n",
       "age_bb                         0.00\n",
       "ibq_r_vsf_3_bb1                0.00\n",
       "ibq_r_vsf_4_bb1                0.00\n",
       "ibq_r_vsf_9_bb1                0.00\n",
       "ibq_r_vsf_10_bb1               0.00\n",
       "ibq_r_vsf_16_bb1               0.00\n",
       "ibq_r_vsf_17_bb1               0.00\n",
       "ibq_r_vsf_28_bb1              15.37\n",
       "ibq_r_vsf_29_bb1               3.66\n",
       "ibq_r_vsf_32_bb1               7.80\n",
       "ibq_r_vsf_33_bb1              20.49\n",
       "sleep_night_duration_bb1       0.00\n",
       "night_awakening_number_bb1     0.00\n",
       "how_falling_asleep_bb1         0.00\n",
       "dtype: float64"
      ]
     },
     "execution_count": 37,
     "metadata": {},
     "output_type": "execute_result"
    }
   ],
   "source": [
    "data.loc[:,'ibq_r_vsf_17_bb1'] = X_ibq_r_vsf_17_bb1_inputed_df['ibq_r_vsf_17_bb1']\n",
    "round(data.isna().sum()/len(data),4)*100"
   ]
  },
  {
   "cell_type": "code",
   "execution_count": 38,
   "id": "44c24255",
   "metadata": {},
   "outputs": [
    {
     "data": {
      "text/plain": [
       "participant_number            float64\n",
       "type_parents                  float64\n",
       "birth_1mth_m_inclusion        float64\n",
       "birth_12mth_m_inclusion       float64\n",
       "age                           float64\n",
       "marital_status                float64\n",
       "marital_status_edit           float64\n",
       "education                     float64\n",
       "gestationnal_age              float64\n",
       "type_pregnancy                float64\n",
       "sex_baby1                     float64\n",
       "child_survey_participation    float64\n",
       "age_bb                        float64\n",
       "ibq_r_vsf_3_bb1               float64\n",
       "ibq_r_vsf_4_bb1               float64\n",
       "ibq_r_vsf_9_bb1               float64\n",
       "ibq_r_vsf_10_bb1              float64\n",
       "ibq_r_vsf_16_bb1              float64\n",
       "ibq_r_vsf_17_bb1              float64\n",
       "ibq_r_vsf_28_bb1              float64\n",
       "how_falling_asleep_bb1        float64\n",
       "dtype: object"
      ]
     },
     "execution_count": 38,
     "metadata": {},
     "output_type": "execute_result"
    }
   ],
   "source": [
    "X_ibq_r_vsf_28_bb1 = data.drop(['ibq_r_vsf_29_bb1', 'ibq_r_vsf_32_bb1', 'ibq_r_vsf_33_bb1','sleep_night_duration_bb1',\n",
    "                              \"night_awakening_number_bb1\"] ,axis=1)\n",
    "X_ibq_r_vsf_28_bb1_inputed_np = imputer.fit_transform(X_ibq_r_vsf_28_bb1)\n",
    "X_ibq_r_vsf_28_bb1_inputed_df = pd.DataFrame(X_ibq_r_vsf_28_bb1_inputed_np, columns=X_ibq_r_vsf_28_bb1.columns, index=X_ibq_r_vsf_28_bb1.index)\n",
    "X_ibq_r_vsf_28_bb1_inputed_df.dtypes"
   ]
  },
  {
   "cell_type": "code",
   "execution_count": 39,
   "id": "f2a4fa38",
   "metadata": {},
   "outputs": [],
   "source": [
    "X_ibq_r_vsf_28_bb1_inputed_df['ibq_r_vsf_28_bb1'] = X_ibq_r_vsf_28_bb1_inputed_df['ibq_r_vsf_28_bb1'].apply(lambda x: int(round(x)))"
   ]
  },
  {
   "cell_type": "code",
   "execution_count": 40,
   "id": "8bb52f6f",
   "metadata": {},
   "outputs": [
    {
     "data": {
      "text/plain": [
       "array([4, 2, 1, 3, 7, 5, 6], dtype=int64)"
      ]
     },
     "execution_count": 40,
     "metadata": {},
     "output_type": "execute_result"
    }
   ],
   "source": [
    "X_ibq_r_vsf_28_bb1_inputed_df[\"ibq_r_vsf_28_bb1\"].unique()"
   ]
  },
  {
   "cell_type": "code",
   "execution_count": 41,
   "id": "26bdee86",
   "metadata": {},
   "outputs": [
    {
     "data": {
      "text/plain": [
       "participant_number             0.00\n",
       "type_parents                   0.00\n",
       "birth_1mth_m_inclusion         0.00\n",
       "birth_12mth_m_inclusion        0.00\n",
       "age                            0.00\n",
       "marital_status                 0.00\n",
       "marital_status_edit            0.00\n",
       "education                      0.00\n",
       "gestationnal_age               0.00\n",
       "type_pregnancy                 0.00\n",
       "sex_baby1                      0.00\n",
       "child_survey_participation     0.00\n",
       "age_bb                         0.00\n",
       "ibq_r_vsf_3_bb1                0.00\n",
       "ibq_r_vsf_4_bb1                0.00\n",
       "ibq_r_vsf_9_bb1                0.00\n",
       "ibq_r_vsf_10_bb1               0.00\n",
       "ibq_r_vsf_16_bb1               0.00\n",
       "ibq_r_vsf_17_bb1               0.00\n",
       "ibq_r_vsf_28_bb1               0.00\n",
       "ibq_r_vsf_29_bb1               3.66\n",
       "ibq_r_vsf_32_bb1               7.80\n",
       "ibq_r_vsf_33_bb1              20.49\n",
       "sleep_night_duration_bb1       0.00\n",
       "night_awakening_number_bb1     0.00\n",
       "how_falling_asleep_bb1         0.00\n",
       "dtype: float64"
      ]
     },
     "execution_count": 41,
     "metadata": {},
     "output_type": "execute_result"
    }
   ],
   "source": [
    "data.loc[:,'ibq_r_vsf_28_bb1'] = X_ibq_r_vsf_28_bb1_inputed_df['ibq_r_vsf_28_bb1']\n",
    "round(data.isna().sum()/len(data),4)*100"
   ]
  },
  {
   "cell_type": "code",
   "execution_count": 42,
   "id": "5f3f4021",
   "metadata": {},
   "outputs": [
    {
     "data": {
      "text/plain": [
       "participant_number            float64\n",
       "type_parents                  float64\n",
       "birth_1mth_m_inclusion        float64\n",
       "birth_12mth_m_inclusion       float64\n",
       "age                           float64\n",
       "marital_status                float64\n",
       "marital_status_edit           float64\n",
       "education                     float64\n",
       "gestationnal_age              float64\n",
       "type_pregnancy                float64\n",
       "sex_baby1                     float64\n",
       "child_survey_participation    float64\n",
       "age_bb                        float64\n",
       "ibq_r_vsf_3_bb1               float64\n",
       "ibq_r_vsf_4_bb1               float64\n",
       "ibq_r_vsf_9_bb1               float64\n",
       "ibq_r_vsf_10_bb1              float64\n",
       "ibq_r_vsf_16_bb1              float64\n",
       "ibq_r_vsf_17_bb1              float64\n",
       "ibq_r_vsf_28_bb1              float64\n",
       "ibq_r_vsf_29_bb1              float64\n",
       "how_falling_asleep_bb1        float64\n",
       "dtype: object"
      ]
     },
     "execution_count": 42,
     "metadata": {},
     "output_type": "execute_result"
    }
   ],
   "source": [
    "X_ibq_r_vsf_29_bb1 = data.drop(['ibq_r_vsf_32_bb1', 'ibq_r_vsf_33_bb1','sleep_night_duration_bb1', \"night_awakening_number_bb1\"] ,axis=1)\n",
    "X_ibq_r_vsf_29_bb1_inputed_np = imputer.fit_transform(X_ibq_r_vsf_29_bb1)\n",
    "X_ibq_r_vsf_29_bb1_inputed_df = pd.DataFrame(X_ibq_r_vsf_29_bb1_inputed_np, columns=X_ibq_r_vsf_29_bb1.columns, index=X_ibq_r_vsf_29_bb1.index)\n",
    "X_ibq_r_vsf_29_bb1_inputed_df.dtypes"
   ]
  },
  {
   "cell_type": "code",
   "execution_count": 43,
   "id": "350da3db",
   "metadata": {},
   "outputs": [],
   "source": [
    "X_ibq_r_vsf_29_bb1_inputed_df['ibq_r_vsf_29_bb1'] = X_ibq_r_vsf_29_bb1_inputed_df['ibq_r_vsf_29_bb1'].apply(lambda x: int(round(x)))"
   ]
  },
  {
   "cell_type": "code",
   "execution_count": 44,
   "id": "04901b41",
   "metadata": {},
   "outputs": [
    {
     "data": {
      "text/plain": [
       "array([7, 2, 4, 3, 5, 6, 1], dtype=int64)"
      ]
     },
     "execution_count": 44,
     "metadata": {},
     "output_type": "execute_result"
    }
   ],
   "source": [
    "X_ibq_r_vsf_29_bb1_inputed_df[\"ibq_r_vsf_29_bb1\"].unique()"
   ]
  },
  {
   "cell_type": "code",
   "execution_count": 45,
   "id": "e89cb2dd",
   "metadata": {},
   "outputs": [
    {
     "data": {
      "text/plain": [
       "participant_number             0.00\n",
       "type_parents                   0.00\n",
       "birth_1mth_m_inclusion         0.00\n",
       "birth_12mth_m_inclusion        0.00\n",
       "age                            0.00\n",
       "marital_status                 0.00\n",
       "marital_status_edit            0.00\n",
       "education                      0.00\n",
       "gestationnal_age               0.00\n",
       "type_pregnancy                 0.00\n",
       "sex_baby1                      0.00\n",
       "child_survey_participation     0.00\n",
       "age_bb                         0.00\n",
       "ibq_r_vsf_3_bb1                0.00\n",
       "ibq_r_vsf_4_bb1                0.00\n",
       "ibq_r_vsf_9_bb1                0.00\n",
       "ibq_r_vsf_10_bb1               0.00\n",
       "ibq_r_vsf_16_bb1               0.00\n",
       "ibq_r_vsf_17_bb1               0.00\n",
       "ibq_r_vsf_28_bb1               0.00\n",
       "ibq_r_vsf_29_bb1               0.00\n",
       "ibq_r_vsf_32_bb1               7.80\n",
       "ibq_r_vsf_33_bb1              20.49\n",
       "sleep_night_duration_bb1       0.00\n",
       "night_awakening_number_bb1     0.00\n",
       "how_falling_asleep_bb1         0.00\n",
       "dtype: float64"
      ]
     },
     "execution_count": 45,
     "metadata": {},
     "output_type": "execute_result"
    }
   ],
   "source": [
    "data.loc[:,'ibq_r_vsf_29_bb1'] = X_ibq_r_vsf_29_bb1_inputed_df['ibq_r_vsf_29_bb1']\n",
    "round(data.isna().sum()/len(data),4)*100"
   ]
  },
  {
   "cell_type": "code",
   "execution_count": 46,
   "id": "adbcf543",
   "metadata": {},
   "outputs": [
    {
     "data": {
      "text/plain": [
       "participant_number            float64\n",
       "type_parents                  float64\n",
       "birth_1mth_m_inclusion        float64\n",
       "birth_12mth_m_inclusion       float64\n",
       "age                           float64\n",
       "marital_status                float64\n",
       "marital_status_edit           float64\n",
       "education                     float64\n",
       "gestationnal_age              float64\n",
       "type_pregnancy                float64\n",
       "sex_baby1                     float64\n",
       "child_survey_participation    float64\n",
       "age_bb                        float64\n",
       "ibq_r_vsf_3_bb1               float64\n",
       "ibq_r_vsf_4_bb1               float64\n",
       "ibq_r_vsf_9_bb1               float64\n",
       "ibq_r_vsf_10_bb1              float64\n",
       "ibq_r_vsf_16_bb1              float64\n",
       "ibq_r_vsf_17_bb1              float64\n",
       "ibq_r_vsf_28_bb1              float64\n",
       "ibq_r_vsf_29_bb1              float64\n",
       "ibq_r_vsf_32_bb1              float64\n",
       "how_falling_asleep_bb1        float64\n",
       "dtype: object"
      ]
     },
     "execution_count": 46,
     "metadata": {},
     "output_type": "execute_result"
    }
   ],
   "source": [
    "X_ibq_r_vsf_32_bb1 = data.drop(['ibq_r_vsf_33_bb1','sleep_night_duration_bb1', \"night_awakening_number_bb1\"] ,axis=1)\n",
    "X_ibq_r_vsf_32_bb1_inputed_np = imputer.fit_transform(X_ibq_r_vsf_32_bb1)\n",
    "X_ibq_r_vsf_32_bb1_inputed_df = pd.DataFrame(X_ibq_r_vsf_32_bb1_inputed_np, columns=X_ibq_r_vsf_32_bb1.columns, index=X_ibq_r_vsf_32_bb1.index)\n",
    "X_ibq_r_vsf_32_bb1_inputed_df.dtypes"
   ]
  },
  {
   "cell_type": "code",
   "execution_count": 47,
   "id": "363e9cdb",
   "metadata": {},
   "outputs": [],
   "source": [
    "X_ibq_r_vsf_32_bb1_inputed_df['ibq_r_vsf_32_bb1'] = X_ibq_r_vsf_32_bb1_inputed_df['ibq_r_vsf_32_bb1'].apply(lambda x: int(round(x)))"
   ]
  },
  {
   "cell_type": "code",
   "execution_count": 48,
   "id": "8368f34f",
   "metadata": {},
   "outputs": [
    {
     "data": {
      "text/plain": [
       "array([6, 3, 4, 5, 2, 7, 1], dtype=int64)"
      ]
     },
     "execution_count": 48,
     "metadata": {},
     "output_type": "execute_result"
    }
   ],
   "source": [
    "X_ibq_r_vsf_32_bb1_inputed_df[\"ibq_r_vsf_32_bb1\"].unique()"
   ]
  },
  {
   "cell_type": "code",
   "execution_count": 49,
   "id": "0fe254a9",
   "metadata": {},
   "outputs": [
    {
     "data": {
      "text/plain": [
       "participant_number             0.00\n",
       "type_parents                   0.00\n",
       "birth_1mth_m_inclusion         0.00\n",
       "birth_12mth_m_inclusion        0.00\n",
       "age                            0.00\n",
       "marital_status                 0.00\n",
       "marital_status_edit            0.00\n",
       "education                      0.00\n",
       "gestationnal_age               0.00\n",
       "type_pregnancy                 0.00\n",
       "sex_baby1                      0.00\n",
       "child_survey_participation     0.00\n",
       "age_bb                         0.00\n",
       "ibq_r_vsf_3_bb1                0.00\n",
       "ibq_r_vsf_4_bb1                0.00\n",
       "ibq_r_vsf_9_bb1                0.00\n",
       "ibq_r_vsf_10_bb1               0.00\n",
       "ibq_r_vsf_16_bb1               0.00\n",
       "ibq_r_vsf_17_bb1               0.00\n",
       "ibq_r_vsf_28_bb1               0.00\n",
       "ibq_r_vsf_29_bb1               0.00\n",
       "ibq_r_vsf_32_bb1               0.00\n",
       "ibq_r_vsf_33_bb1              20.49\n",
       "sleep_night_duration_bb1       0.00\n",
       "night_awakening_number_bb1     0.00\n",
       "how_falling_asleep_bb1         0.00\n",
       "dtype: float64"
      ]
     },
     "execution_count": 49,
     "metadata": {},
     "output_type": "execute_result"
    }
   ],
   "source": [
    "data.loc[:,'ibq_r_vsf_32_bb1'] = X_ibq_r_vsf_32_bb1_inputed_df['ibq_r_vsf_32_bb1']\n",
    "round(data.isna().sum()/len(data),4)*100"
   ]
  },
  {
   "cell_type": "code",
   "execution_count": 50,
   "id": "5c80ffe7",
   "metadata": {},
   "outputs": [
    {
     "data": {
      "text/plain": [
       "participant_number            float64\n",
       "type_parents                  float64\n",
       "birth_1mth_m_inclusion        float64\n",
       "birth_12mth_m_inclusion       float64\n",
       "age                           float64\n",
       "marital_status                float64\n",
       "marital_status_edit           float64\n",
       "education                     float64\n",
       "gestationnal_age              float64\n",
       "type_pregnancy                float64\n",
       "sex_baby1                     float64\n",
       "child_survey_participation    float64\n",
       "age_bb                        float64\n",
       "ibq_r_vsf_3_bb1               float64\n",
       "ibq_r_vsf_4_bb1               float64\n",
       "ibq_r_vsf_9_bb1               float64\n",
       "ibq_r_vsf_10_bb1              float64\n",
       "ibq_r_vsf_16_bb1              float64\n",
       "ibq_r_vsf_17_bb1              float64\n",
       "ibq_r_vsf_28_bb1              float64\n",
       "ibq_r_vsf_29_bb1              float64\n",
       "ibq_r_vsf_32_bb1              float64\n",
       "ibq_r_vsf_33_bb1              float64\n",
       "how_falling_asleep_bb1        float64\n",
       "dtype: object"
      ]
     },
     "execution_count": 50,
     "metadata": {},
     "output_type": "execute_result"
    }
   ],
   "source": [
    "X_ibq_r_vsf_33_bb1 = data.drop(['sleep_night_duration_bb1', \"night_awakening_number_bb1\"] ,axis=1)\n",
    "X_ibq_r_vsf_33_bb1_inputed_np = imputer.fit_transform(X_ibq_r_vsf_33_bb1)\n",
    "X_ibq_r_vsf_33_bb1_inputed_df = pd.DataFrame(X_ibq_r_vsf_33_bb1_inputed_np, columns=X_ibq_r_vsf_33_bb1.columns, index=X_ibq_r_vsf_33_bb1.index)\n",
    "X_ibq_r_vsf_33_bb1_inputed_df.dtypes"
   ]
  },
  {
   "cell_type": "code",
   "execution_count": 51,
   "id": "877b18eb",
   "metadata": {},
   "outputs": [],
   "source": [
    "X_ibq_r_vsf_33_bb1_inputed_df['ibq_r_vsf_33_bb1'] = X_ibq_r_vsf_33_bb1_inputed_df['ibq_r_vsf_33_bb1'].apply(lambda x: int(round(x)))"
   ]
  },
  {
   "cell_type": "code",
   "execution_count": 52,
   "id": "451af7c8",
   "metadata": {},
   "outputs": [
    {
     "data": {
      "text/plain": [
       "array([5, 4, 6, 3, 7, 2, 1], dtype=int64)"
      ]
     },
     "execution_count": 52,
     "metadata": {},
     "output_type": "execute_result"
    }
   ],
   "source": [
    "X_ibq_r_vsf_33_bb1_inputed_df[\"ibq_r_vsf_33_bb1\"].unique()"
   ]
  },
  {
   "cell_type": "code",
   "execution_count": 53,
   "id": "1efa0dc3",
   "metadata": {},
   "outputs": [
    {
     "data": {
      "text/plain": [
       "participant_number            0.0\n",
       "type_parents                  0.0\n",
       "birth_1mth_m_inclusion        0.0\n",
       "birth_12mth_m_inclusion       0.0\n",
       "age                           0.0\n",
       "marital_status                0.0\n",
       "marital_status_edit           0.0\n",
       "education                     0.0\n",
       "gestationnal_age              0.0\n",
       "type_pregnancy                0.0\n",
       "sex_baby1                     0.0\n",
       "child_survey_participation    0.0\n",
       "age_bb                        0.0\n",
       "ibq_r_vsf_3_bb1               0.0\n",
       "ibq_r_vsf_4_bb1               0.0\n",
       "ibq_r_vsf_9_bb1               0.0\n",
       "ibq_r_vsf_10_bb1              0.0\n",
       "ibq_r_vsf_16_bb1              0.0\n",
       "ibq_r_vsf_17_bb1              0.0\n",
       "ibq_r_vsf_28_bb1              0.0\n",
       "ibq_r_vsf_29_bb1              0.0\n",
       "ibq_r_vsf_32_bb1              0.0\n",
       "ibq_r_vsf_33_bb1              0.0\n",
       "sleep_night_duration_bb1      0.0\n",
       "night_awakening_number_bb1    0.0\n",
       "how_falling_asleep_bb1        0.0\n",
       "dtype: float64"
      ]
     },
     "execution_count": 53,
     "metadata": {},
     "output_type": "execute_result"
    }
   ],
   "source": [
    "# Now we have a dataframe that does not have Nan values in any of the columns\n",
    "data.loc[:,'ibq_r_vsf_33_bb1'] = X_ibq_r_vsf_33_bb1_inputed_df['ibq_r_vsf_33_bb1']\n",
    "round(data.isna().sum()/len(data),4)*100"
   ]
  },
  {
   "cell_type": "code",
   "execution_count": 57,
   "id": "cea78b7c",
   "metadata": {},
   "outputs": [
    {
     "data": {
      "text/plain": [
       "sleep_night_duration_bb1\n",
       "10:00    116\n",
       "11:00     79\n",
       "12:00     72\n",
       "09:00     39\n",
       "10:30     32\n",
       "08:00     22\n",
       "07:00     15\n",
       "09:30     10\n",
       "11:30     10\n",
       "06:00      6\n",
       "05:00      3\n",
       "07:30      2\n",
       "08:30      2\n",
       "11:15      1\n",
       "99:99      1\n",
       "Name: count, dtype: int64"
      ]
     },
     "execution_count": 57,
     "metadata": {},
     "output_type": "execute_result"
    }
   ],
   "source": [
    "#\"sleep_night_duration\" is of the datatype object, because of the format of hours. \n",
    "# I want to change this values into an integer.\n",
    "data[\"sleep_night_duration_bb1\"].value_counts()"
   ]
  },
  {
   "cell_type": "code",
   "execution_count": 62,
   "id": "dc97e8ed",
   "metadata": {},
   "outputs": [],
   "source": [
    "to_float =lambda x: float(x.split(\":\")[0]) + float(x.split(\":\")[1])/60\n",
    "data[\"hours_of_sleep_float\"] = data[\"sleep_night_duration_bb1\"].apply(to_float)\n",
    "data.drop(\"sleep_night_duration_bb1\", axis=1, inplace=True)"
   ]
  },
  {
   "cell_type": "code",
   "execution_count": 63,
   "id": "0ad51e4a",
   "metadata": {},
   "outputs": [
    {
     "data": {
      "text/plain": [
       "hours_of_sleep_float\n",
       "10.00     116\n",
       "11.00      79\n",
       "12.00      72\n",
       "9.00       39\n",
       "10.50      32\n",
       "8.00       22\n",
       "7.00       15\n",
       "9.50       10\n",
       "11.50      10\n",
       "6.00        6\n",
       "5.00        3\n",
       "7.50        2\n",
       "8.50        2\n",
       "11.25       1\n",
       "100.65      1\n",
       "Name: count, dtype: int64"
      ]
     },
     "execution_count": 63,
     "metadata": {},
     "output_type": "execute_result"
    }
   ],
   "source": [
    "# there is one outlier in this column with the value of 100.65 hours of sleep that is obviosly wrong. \n",
    "# I am replacing it with the mode.\n",
    "data[\"hours_of_sleep_float\"].value_counts()"
   ]
  },
  {
   "cell_type": "code",
   "execution_count": 71,
   "id": "0ed98301",
   "metadata": {},
   "outputs": [],
   "source": [
    "mode = data['hours_of_sleep_float'].mode()[0]\n",
    "data[\"hours_of_sleep_float\"] = data[\"hours_of_sleep_float\"].replace(100.65,mode) "
   ]
  },
  {
   "cell_type": "code",
   "execution_count": 72,
   "id": "801b91d2",
   "metadata": {},
   "outputs": [
    {
     "data": {
      "text/plain": [
       "hours_of_sleep_float\n",
       "10.00    117\n",
       "11.00     79\n",
       "12.00     72\n",
       "9.00      39\n",
       "10.50     32\n",
       "8.00      22\n",
       "7.00      15\n",
       "9.50      10\n",
       "11.50     10\n",
       "6.00       6\n",
       "5.00       3\n",
       "7.50       2\n",
       "8.50       2\n",
       "11.25      1\n",
       "Name: count, dtype: int64"
      ]
     },
     "execution_count": 72,
     "metadata": {},
     "output_type": "execute_result"
    }
   ],
   "source": [
    "data[\"hours_of_sleep_float\"].value_counts()"
   ]
  },
  {
   "cell_type": "code",
   "execution_count": 75,
   "id": "e2a7b5c8",
   "metadata": {},
   "outputs": [],
   "source": [
    "# exporting cleaned df into a new csv:\n",
    "data.to_csv('../data/clean_sleep_data.csv', index=False)"
   ]
  }
 ],
 "metadata": {
  "kernelspec": {
   "display_name": "Python 3 (ipykernel)",
   "language": "python",
   "name": "python3"
  },
  "language_info": {
   "codemirror_mode": {
    "name": "ipython",
    "version": 3
   },
   "file_extension": ".py",
   "mimetype": "text/x-python",
   "name": "python",
   "nbconvert_exporter": "python",
   "pygments_lexer": "ipython3",
   "version": "3.9.13"
  }
 },
 "nbformat": 4,
 "nbformat_minor": 5
}
